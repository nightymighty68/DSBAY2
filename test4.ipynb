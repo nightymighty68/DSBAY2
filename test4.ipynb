{
 "cells": [
  {
   "cell_type": "code",
   "execution_count": 1,
   "id": "29ccb80c",
   "metadata": {},
   "outputs": [],
   "source": [
    "import pandas as pd\n",
    "import numpy as np  \n",
    "import matplotlib.pyplot as plt\n",
    "import seaborn as sns"
   ]
  },
  {
   "cell_type": "code",
   "execution_count": 2,
   "id": "f9d9b0f4",
   "metadata": {},
   "outputs": [],
   "source": [
    "data = pd.read_csv('C:\\\\Users\\\\HP\\\\OneDrive\\\\Documents\\\\DSBACODINGTEST\\\\datasets\\\\PLTR_2020-09-30_2025-09-09.csv')"
   ]
  },
  {
   "cell_type": "code",
   "execution_count": null,
   "id": "7d57a735",
   "metadata": {},
   "outputs": [
    {
     "data": {
      "application/vnd.microsoft.datawrangler.viewer.v0+json": {
       "columns": [
        {
         "name": "index",
         "rawType": "int64",
         "type": "integer"
        },
        {
         "name": "date",
         "rawType": "object",
         "type": "unknown"
        },
        {
         "name": "open",
         "rawType": "object",
         "type": "string"
        },
        {
         "name": "high",
         "rawType": "object",
         "type": "string"
        },
        {
         "name": "low",
         "rawType": "object",
         "type": "string"
        },
        {
         "name": "close",
         "rawType": "object",
         "type": "string"
        },
        {
         "name": "adj_close",
         "rawType": "object",
         "type": "string"
        },
        {
         "name": "volume",
         "rawType": "object",
         "type": "string"
        }
       ],
       "ref": "3051953c-1805-4909-bb89-d1a6f44fcbeb",
       "rows": [
        [
         "0",
         null,
         "PLTR",
         "PLTR",
         "PLTR",
         "PLTR",
         "PLTR",
         "PLTR"
        ],
        [
         "1",
         "2020-09-30",
         "10.0",
         "11.40999984741211",
         "9.109999656677246",
         "9.5",
         "9.5",
         "338584400"
        ],
        [
         "2",
         "2020-10-01",
         "9.6899995803833",
         "10.100000381469727",
         "9.229999542236328",
         "9.460000038146973",
         "9.460000038146973",
         "124297600"
        ],
        [
         "3",
         "2020-10-02",
         "9.0600004196167",
         "9.279999732971191",
         "8.9399995803833",
         "9.199999809265137",
         "9.199999809265137",
         "55018300"
        ],
        [
         "4",
         "2020-10-05",
         "9.430000305175781",
         "9.489999771118164",
         "8.920000076293945",
         "9.029999732971191",
         "9.029999732971191",
         "36316900"
        ],
        [
         "5",
         "2020-10-06",
         "9.039999961853027",
         "10.180000305175781",
         "8.899999618530273",
         "9.899999618530273",
         "9.899999618530273",
         "90864000"
        ],
        [
         "6",
         "2020-10-07",
         "10.039999961853027",
         "10.489999771118164",
         "9.989999771118164",
         "10.0",
         "10.0",
         "54672400"
        ],
        [
         "7",
         "2020-10-08",
         "10.289999961853027",
         "10.399999618530273",
         "9.989999771118164",
         "10.0",
         "10.0",
         "34989200"
        ],
        [
         "8",
         "2020-10-09",
         "10.130000114440918",
         "10.1899995803833",
         "9.890000343322754",
         "9.949999809265137",
         "9.949999809265137",
         "19653500"
        ],
        [
         "9",
         "2020-10-12",
         "10.039999961853027",
         "10.050000190734863",
         "9.65999984741211",
         "9.890000343322754",
         "9.890000343322754",
         "20623600"
        ],
        [
         "10",
         "2020-10-13",
         "9.880000114440918",
         "9.880000114440918",
         "9.40999984741211",
         "9.470000267028809",
         "9.470000267028809",
         "21847200"
        ],
        [
         "11",
         "2020-10-14",
         "9.600000381469727",
         "9.65999984741211",
         "9.289999961853027",
         "9.34000015258789",
         "9.34000015258789",
         "13652600"
        ],
        [
         "12",
         "2020-10-15",
         "9.270000457763672",
         "9.90999984741211",
         "9.180000305175781",
         "9.90999984741211",
         "9.90999984741211",
         "12924100"
        ],
        [
         "13",
         "2020-10-16",
         "9.9399995803833",
         "9.949999809265137",
         "9.65999984741211",
         "9.710000038146973",
         "9.710000038146973",
         "11142500"
        ],
        [
         "14",
         "2020-10-19",
         "9.789999961853027",
         "9.819999694824219",
         "9.529999732971191",
         "9.569999694824219",
         "9.569999694824219",
         "9126400"
        ],
        [
         "15",
         "2020-10-20",
         "9.600000381469727",
         "9.65999984741211",
         "9.270000457763672",
         "9.270000457763672",
         "9.270000457763672",
         "11138200"
        ],
        [
         "16",
         "2020-10-21",
         "9.300000190734863",
         "9.479999542236328",
         "9.199999809265137",
         "9.199999809265137",
         "9.199999809265137",
         "9190000"
        ],
        [
         "17",
         "2020-10-22",
         "9.369999885559082",
         "9.75",
         "9.220000267028809",
         "9.680000305175781",
         "9.680000305175781",
         "17928600"
        ],
        [
         "18",
         "2020-10-23",
         "9.710000038146973",
         "9.829999923706055",
         "9.470000267028809",
         "9.489999771118164",
         "9.489999771118164",
         "12618000"
        ],
        [
         "19",
         "2020-10-26",
         "9.720000267028809",
         "9.970000267028809",
         "9.600000381469727",
         "9.949999809265137",
         "9.949999809265137",
         "23767300"
        ],
        [
         "20",
         "2020-10-27",
         "10.0",
         "11.039999961853027",
         "9.920000076293945",
         "10.949999809265137",
         "10.949999809265137",
         "53695900"
        ],
        [
         "21",
         "2020-10-28",
         "10.65999984741211",
         "10.984999656677246",
         "10.100000381469727",
         "10.850000381469727",
         "10.850000381469727",
         "30941700"
        ],
        [
         "22",
         "2020-10-29",
         "10.899999618530273",
         "11.100000381469727",
         "10.5600004196167",
         "10.75",
         "10.75",
         "20515700"
        ],
        [
         "23",
         "2020-10-30",
         "10.609999656677246",
         "10.680000305175781",
         "9.850000381469727",
         "10.130000114440918",
         "10.130000114440918",
         "19705500"
        ],
        [
         "24",
         "2020-11-02",
         "10.229999542236328",
         "10.569999694824219",
         "10.229999542236328",
         "10.539999961853027",
         "10.539999961853027",
         "11677800"
        ],
        [
         "25",
         "2020-11-03",
         "10.569999694824219",
         "10.9399995803833",
         "10.4399995803833",
         "10.5",
         "10.5",
         "21652800"
        ],
        [
         "26",
         "2020-11-04",
         "10.819999694824219",
         "10.920000076293945",
         "10.550000190734863",
         "10.720000267028809",
         "10.720000267028809",
         "15783400"
        ],
        [
         "27",
         "2020-11-05",
         "10.899999618530273",
         "12.130000114440918",
         "10.850000381469727",
         "11.880000114440918",
         "11.880000114440918",
         "48560400"
        ],
        [
         "28",
         "2020-11-06",
         "12.220000267028809",
         "14.960000038146973",
         "12.050000190734863",
         "13.829999923706055",
         "13.829999923706055",
         "89977600"
        ],
        [
         "29",
         "2020-11-09",
         "14.960000038146973",
         "15.899999618530273",
         "14.109999656677246",
         "14.670000076293945",
         "14.670000076293945",
         "60099000"
        ],
        [
         "30",
         "2020-11-10",
         "14.989999771118164",
         "15.010000228881836",
         "13.180000305175781",
         "14.0",
         "14.0",
         "38078700"
        ],
        [
         "31",
         "2020-11-11",
         "14.569999694824219",
         "15.970000267028809",
         "14.399999618530273",
         "15.960000038146973",
         "15.960000038146973",
         "47027900"
        ],
        [
         "32",
         "2020-11-12",
         "16.65999984741211",
         "17.059999465942383",
         "14.40999984741211",
         "14.579999923706055",
         "14.579999923706055",
         "97904000"
        ],
        [
         "33",
         "2020-11-13",
         "14.489999771118164",
         "16.0",
         "14.489999771118164",
         "15.800000190734863",
         "15.800000190734863",
         "76354800"
        ],
        [
         "34",
         "2020-11-16",
         "15.960000038146973",
         "16.100000381469727",
         "15.010000228881836",
         "15.930000305175781",
         "15.930000305175781",
         "65326000"
        ],
        [
         "35",
         "2020-11-17",
         "16.290000915527344",
         "18.75",
         "16.18000030517578",
         "17.850000381469727",
         "17.850000381469727",
         "116618500"
        ],
        [
         "36",
         "2020-11-18",
         "18.280000686645508",
         "19.25",
         "17.540000915527344",
         "17.899999618530273",
         "17.899999618530273",
         "89957900"
        ],
        [
         "37",
         "2020-11-19",
         "18.5",
         "18.979999542236328",
         "17.959999084472656",
         "18.979999542236328",
         "18.979999542236328",
         "56225400"
        ],
        [
         "38",
         "2020-11-20",
         "19.030000686645508",
         "19.65999984741211",
         "18.0",
         "18.149999618530273",
         "18.149999618530273",
         "72104000"
        ],
        [
         "39",
         "2020-11-23",
         "18.6299991607666",
         "21.450000762939453",
         "18.56999969482422",
         "21.040000915527344",
         "21.040000915527344",
         "84716300"
        ],
        [
         "40",
         "2020-11-24",
         "22.350000381469727",
         "24.270000457763672",
         "20.6299991607666",
         "23.81999969482422",
         "23.81999969482422",
         "115468800"
        ],
        [
         "41",
         "2020-11-25",
         "23.959999084472656",
         "29.75",
         "23.690000534057617",
         "29.049999237060547",
         "29.049999237060547",
         "202563700"
        ],
        [
         "42",
         "2020-11-27",
         "31.190000534057617",
         "33.5",
         "26.1200008392334",
         "27.65999984741211",
         "27.65999984741211",
         "207834000"
        ],
        [
         "43",
         "2020-11-30",
         "28.239999771118164",
         "30.149999618530273",
         "24.110000610351562",
         "27.110000610351562",
         "27.110000610351562",
         "137243000"
        ],
        [
         "44",
         "2020-12-01",
         "28.09000015258789",
         "28.139999389648438",
         "24.450000762939453",
         "25.670000076293945",
         "25.670000076293945",
         "84050000"
        ],
        [
         "45",
         "2020-12-02",
         "22.239999771118164",
         "23.399999618530273",
         "21.149999618530273",
         "22.510000228881836",
         "22.510000228881836",
         "149062100"
        ],
        [
         "46",
         "2020-12-03",
         "23.549999237060547",
         "25.6200008392334",
         "23.5",
         "24.030000686645508",
         "24.030000686645508",
         "85634300"
        ],
        [
         "47",
         "2020-12-04",
         "24.8799991607666",
         "25.239999771118164",
         "23.510000228881836",
         "23.850000381469727",
         "23.850000381469727",
         "56044100"
        ],
        [
         "48",
         "2020-12-07",
         "24.440000534057617",
         "29.0",
         "24.440000534057617",
         "28.940000534057617",
         "28.940000534057617",
         "118463700"
        ],
        [
         "49",
         "2020-12-08",
         "30.6299991607666",
         "31.239999771118164",
         "27.25",
         "28.59000015258789",
         "28.59000015258789",
         "124754300"
        ]
       ],
       "shape": {
        "columns": 7,
        "rows": 1240
       }
      },
      "text/html": [
       "<div>\n",
       "<style scoped>\n",
       "    .dataframe tbody tr th:only-of-type {\n",
       "        vertical-align: middle;\n",
       "    }\n",
       "\n",
       "    .dataframe tbody tr th {\n",
       "        vertical-align: top;\n",
       "    }\n",
       "\n",
       "    .dataframe thead th {\n",
       "        text-align: right;\n",
       "    }\n",
       "</style>\n",
       "<table border=\"1\" class=\"dataframe\">\n",
       "  <thead>\n",
       "    <tr style=\"text-align: right;\">\n",
       "      <th></th>\n",
       "      <th>date</th>\n",
       "      <th>open</th>\n",
       "      <th>high</th>\n",
       "      <th>low</th>\n",
       "      <th>close</th>\n",
       "      <th>adj_close</th>\n",
       "      <th>volume</th>\n",
       "    </tr>\n",
       "  </thead>\n",
       "  <tbody>\n",
       "    <tr>\n",
       "      <th>0</th>\n",
       "      <td>NaN</td>\n",
       "      <td>PLTR</td>\n",
       "      <td>PLTR</td>\n",
       "      <td>PLTR</td>\n",
       "      <td>PLTR</td>\n",
       "      <td>PLTR</td>\n",
       "      <td>PLTR</td>\n",
       "    </tr>\n",
       "    <tr>\n",
       "      <th>1</th>\n",
       "      <td>2020-09-30</td>\n",
       "      <td>10.0</td>\n",
       "      <td>11.40999984741211</td>\n",
       "      <td>9.109999656677246</td>\n",
       "      <td>9.5</td>\n",
       "      <td>9.5</td>\n",
       "      <td>338584400</td>\n",
       "    </tr>\n",
       "    <tr>\n",
       "      <th>2</th>\n",
       "      <td>2020-10-01</td>\n",
       "      <td>9.6899995803833</td>\n",
       "      <td>10.100000381469727</td>\n",
       "      <td>9.229999542236328</td>\n",
       "      <td>9.460000038146973</td>\n",
       "      <td>9.460000038146973</td>\n",
       "      <td>124297600</td>\n",
       "    </tr>\n",
       "    <tr>\n",
       "      <th>3</th>\n",
       "      <td>2020-10-02</td>\n",
       "      <td>9.0600004196167</td>\n",
       "      <td>9.279999732971191</td>\n",
       "      <td>8.9399995803833</td>\n",
       "      <td>9.199999809265137</td>\n",
       "      <td>9.199999809265137</td>\n",
       "      <td>55018300</td>\n",
       "    </tr>\n",
       "    <tr>\n",
       "      <th>4</th>\n",
       "      <td>2020-10-05</td>\n",
       "      <td>9.430000305175781</td>\n",
       "      <td>9.489999771118164</td>\n",
       "      <td>8.920000076293945</td>\n",
       "      <td>9.029999732971191</td>\n",
       "      <td>9.029999732971191</td>\n",
       "      <td>36316900</td>\n",
       "    </tr>\n",
       "    <tr>\n",
       "      <th>...</th>\n",
       "      <td>...</td>\n",
       "      <td>...</td>\n",
       "      <td>...</td>\n",
       "      <td>...</td>\n",
       "      <td>...</td>\n",
       "      <td>...</td>\n",
       "      <td>...</td>\n",
       "    </tr>\n",
       "    <tr>\n",
       "      <th>1235</th>\n",
       "      <td>2025-08-29</td>\n",
       "      <td>156.97999572753906</td>\n",
       "      <td>158.4199981689453</td>\n",
       "      <td>153.0</td>\n",
       "      <td>156.7100067138672</td>\n",
       "      <td>156.7100067138672</td>\n",
       "      <td>45270500</td>\n",
       "    </tr>\n",
       "    <tr>\n",
       "      <th>1236</th>\n",
       "      <td>2025-09-02</td>\n",
       "      <td>151.1999969482422</td>\n",
       "      <td>158.38999938964844</td>\n",
       "      <td>150.27999877929688</td>\n",
       "      <td>157.08999633789062</td>\n",
       "      <td>157.08999633789062</td>\n",
       "      <td>65435000</td>\n",
       "    </tr>\n",
       "    <tr>\n",
       "      <th>1237</th>\n",
       "      <td>2025-09-03</td>\n",
       "      <td>158.0</td>\n",
       "      <td>161.14999389648438</td>\n",
       "      <td>152.7100067138672</td>\n",
       "      <td>154.89999389648438</td>\n",
       "      <td>154.89999389648438</td>\n",
       "      <td>66052300</td>\n",
       "    </tr>\n",
       "    <tr>\n",
       "      <th>1238</th>\n",
       "      <td>2025-09-04</td>\n",
       "      <td>154.86500549316406</td>\n",
       "      <td>157.0399932861328</td>\n",
       "      <td>153.16000366210938</td>\n",
       "      <td>156.13999938964844</td>\n",
       "      <td>156.13999938964844</td>\n",
       "      <td>53292300</td>\n",
       "    </tr>\n",
       "    <tr>\n",
       "      <th>1239</th>\n",
       "      <td>2025-09-05</td>\n",
       "      <td>157.82000732421875</td>\n",
       "      <td>158.97000122070312</td>\n",
       "      <td>148.0399932861328</td>\n",
       "      <td>153.11000061035156</td>\n",
       "      <td>153.11000061035156</td>\n",
       "      <td>81855900</td>\n",
       "    </tr>\n",
       "  </tbody>\n",
       "</table>\n",
       "<p>1240 rows × 7 columns</p>\n",
       "</div>"
      ],
      "text/plain": [
       "            date                open                high                 low  \\\n",
       "0            NaN                PLTR                PLTR                PLTR   \n",
       "1     2020-09-30                10.0   11.40999984741211   9.109999656677246   \n",
       "2     2020-10-01     9.6899995803833  10.100000381469727   9.229999542236328   \n",
       "3     2020-10-02     9.0600004196167   9.279999732971191     8.9399995803833   \n",
       "4     2020-10-05   9.430000305175781   9.489999771118164   8.920000076293945   \n",
       "...          ...                 ...                 ...                 ...   \n",
       "1235  2025-08-29  156.97999572753906   158.4199981689453               153.0   \n",
       "1236  2025-09-02   151.1999969482422  158.38999938964844  150.27999877929688   \n",
       "1237  2025-09-03               158.0  161.14999389648438   152.7100067138672   \n",
       "1238  2025-09-04  154.86500549316406   157.0399932861328  153.16000366210938   \n",
       "1239  2025-09-05  157.82000732421875  158.97000122070312   148.0399932861328   \n",
       "\n",
       "                   close           adj_close     volume  \n",
       "0                   PLTR                PLTR       PLTR  \n",
       "1                    9.5                 9.5  338584400  \n",
       "2      9.460000038146973   9.460000038146973  124297600  \n",
       "3      9.199999809265137   9.199999809265137   55018300  \n",
       "4      9.029999732971191   9.029999732971191   36316900  \n",
       "...                  ...                 ...        ...  \n",
       "1235   156.7100067138672   156.7100067138672   45270500  \n",
       "1236  157.08999633789062  157.08999633789062   65435000  \n",
       "1237  154.89999389648438  154.89999389648438   66052300  \n",
       "1238  156.13999938964844  156.13999938964844   53292300  \n",
       "1239  153.11000061035156  153.11000061035156   81855900  \n",
       "\n",
       "[1240 rows x 7 columns]"
      ]
     },
     "execution_count": 9,
     "metadata": {},
     "output_type": "execute_result"
    }
   ],
   "source": [
    "data.head(1240)"
   ]
  },
  {
   "cell_type": "code",
   "execution_count": 13,
   "id": "6569bf6a",
   "metadata": {},
   "outputs": [
    {
     "name": "stdout",
     "output_type": "stream",
     "text": [
      "date\n",
      "2020-09-30                  9.5\n",
      "2020-10-01    9.460000038146973\n",
      "2020-10-02    9.199999809265137\n",
      "2020-10-05    9.029999732971191\n",
      "2020-10-06    9.899999618530273\n",
      "Name: close, dtype: object\n"
     ]
    }
   ],
   "source": [
    "data['date'] = pd.to_datetime(data['date'])\n",
    "data = data.sort_values('date')\n",
    "data.set_index('date', inplace=True)\n",
    "ts = data['close']\n",
    "print(ts.head())\n"
   ]
  },
  {
   "cell_type": "code",
   "execution_count": 22,
   "id": "1bd73500",
   "metadata": {},
   "outputs": [],
   "source": [
    "data['close'] = pd.to_numeric(data['close'], errors='coerce')\n",
    "data['day'] = np.arange(len(data))\n"
   ]
  },
  {
   "cell_type": "code",
   "execution_count": 23,
   "id": "0d6b08d3",
   "metadata": {},
   "outputs": [],
   "source": [
    "X = data[['day']]      # Feature\n",
    "y = data['close']      # Target\n",
    "\n",
    "# 4. Train-test split (80% train, 20% test)\n",
    "train_size = int(len(data) * 0.8)\n",
    "X_train, X_test = X[:train_size], X[train_size:]\n",
    "y_train, y_test = y[:train_size], y[train_size:]"
   ]
  },
  {
   "cell_type": "code",
   "execution_count": 29,
   "id": "0b5db447",
   "metadata": {},
   "outputs": [],
   "source": [
    "from sklearn.linear_model import LinearRegression\n",
    "\n",
    "model = LinearRegression()\n",
    "model.fit(X_train, y_train)\n",
    "\n",
    "# 6. Predictions\n",
    "y_pred = model.predict(X_test)"
   ]
  },
  {
   "cell_type": "code",
   "execution_count": 34,
   "id": "f276907d",
   "metadata": {},
   "outputs": [
    {
     "name": "stdout",
     "output_type": "stream",
     "text": [
      "MAE: 81.86, RMSE: 91.54\n"
     ]
    }
   ],
   "source": [
    "from sklearn.metrics import mean_absolute_error, mean_squared_error\n",
    "\n",
    "# Remove NaN from y_test and align y_pred accordingly\n",
    "mask = ~y_test.isna()\n",
    "y_test_clean = y_test[mask]\n",
    "y_pred_clean = y_pred[mask.values]  # y_pred is numpy array, mask.values is boolean array\n",
    "\n",
    "mae = mean_absolute_error(y_test_clean, y_pred_clean)\n",
    "rmse = np.sqrt(mean_squared_error(y_test_clean, y_pred_clean))\n",
    "print(f\"MAE: {mae:.2f}, RMSE: {rmse:.2f}\")"
   ]
  },
  {
   "cell_type": "code",
   "execution_count": 36,
   "id": "32f9c5ed",
   "metadata": {},
   "outputs": [
    {
     "data": {
      "image/png": "[encoded data removed]",
      "text/plain": [
       "<Figure size 1000x500 with 1 Axes>"
      ]
     },
     "metadata": {},
     "output_type": "display_data"
    }
   ],
   "source": [
    "# 8. Plot actual vs predicted\n",
    "plt.figure(figsize=(10,5))\n",
    "plt.plot(y_test.index, y_test, label=\"Actual\")\n",
    "plt.plot(y_test.index, y_pred, label=\"Predicted\", linestyle=\"--\")\n",
    "plt.title(\"Stock Close Price Prediction (Linear Regression)\")\n",
    "plt.xlabel(\"Date\")\n",
    "plt.ylabel(\"Close Price\")\n",
    "plt.legend()\n",
    "plt.show()"
   ]
  },
  {
   "cell_type": "code",
   "execution_count": 38,
   "id": "28ebe5dd",
   "metadata": {},
   "outputs": [
    {
     "name": "stderr",
     "output_type": "stream",
     "text": [
      "c:\\Users\\HP\\anaconda3\\Lib\\site-packages\\sklearn\\utils\\validation.py:2739: UserWarning: X does not have valid feature names, but LinearRegression was fitted with feature names\n",
      "  warnings.warn(\n"
     ]
    },
    {
     "data": {
      "image/png": "[encoded data removed]",
      "text/plain": [
       "<Figure size 1000x500 with 1 Axes>"
      ]
     },
     "metadata": {},
     "output_type": "display_data"
    }
   ],
   "source": [
    "# 9. Forecast into the future (e.g., +365 days)\n",
    "future_days = np.arange(len(data), len(data)+365).reshape(-1,1)\n",
    "future_preds = model.predict(future_days)\n",
    "\n",
    "plt.figure(figsize=(10,5))\n",
    "plt.plot(data.index, data['close'], label=\"Historical\")\n",
    "# Use the last valid date from the index for the forecast\n",
    "last_date = data.index[-2] if pd.isna(data.index[-1]) else data.index[-1]\n",
    "future_dates = pd.date_range(last_date, periods=366, freq=\"D\")[1:]\n",
    "plt.plot(future_dates, future_preds, label=\"Forecast\", linestyle=\"--\")\n",
    "plt.title(\"Stock Close Price Forecast (Next Year)\")\n",
    "plt.xlabel(\"Date\")\n",
    "plt.ylabel(\"Close Price\")\n",
    "plt.legend()\n",
    "plt.show()"
   ]
  },
  {
   "cell_type": "code",
   "execution_count": 18,
   "id": "ffda7676",
   "metadata": {},
   "outputs": [
    {
     "name": "stdout",
     "output_type": "stream",
     "text": [
      "2020-09-30 00:00:00 to 2025-09-08 00:00:00\n",
      "date\n",
      "2020-09-30                  9.5\n",
      "2020-10-01    9.460000038146973\n",
      "2020-10-02    9.199999809265137\n",
      "2020-10-05    9.029999732971191\n",
      "2020-10-06    9.899999618530273\n",
      "Name: close, dtype: object\n",
      "date\n",
      "2025-09-03    154.89999389648438\n",
      "2025-09-04    156.13999938964844\n",
      "2025-09-05    153.11000061035156\n",
      "2025-09-08    156.10000610351562\n",
      "NaT                         PLTR\n",
      "Name: close, dtype: object\n"
     ]
    }
   ],
   "source": [
    "print(ts.index.min(), \"to\", ts.index.max())\n",
    "print(ts.head())\n",
    "print(ts.tail())\n"
   ]
  },
  {
   "cell_type": "code",
   "execution_count": 20,
   "id": "2e89ecaa",
   "metadata": {},
   "outputs": [
    {
     "name": "stdout",
     "output_type": "stream",
     "text": [
      "open          object\n",
      "high          object\n",
      "low           object\n",
      "close        float64\n",
      "adj_close     object\n",
      "volume        object\n",
      "dtype: object\n"
     ]
    }
   ],
   "source": [
    "print(data.dtypes)\n"
   ]
  },
  {
   "cell_type": "code",
   "execution_count": 21,
   "id": "144d7ffe",
   "metadata": {},
   "outputs": [
    {
     "data": {
      "image/png": "[encoded data removed]",
      "text/plain": [
       "<Figure size 1000x500 with 1 Axes>"
      ]
     },
     "metadata": {},
     "output_type": "display_data"
    }
   ],
   "source": [
    "# Ensure ts is numeric and drop non-numeric/NaN values before plotting\n",
    "ts_numeric = pd.to_numeric(ts, errors='coerce').dropna()\n",
    "\n",
    "ts_numeric.plot(figsize=(10,5), title=\"Stock Prices (2020–2025)\")\n",
    "plt.ylabel(\"Price\")\n",
    "plt.show()\n"
   ]
  },
  {
   "cell_type": "code",
   "execution_count": 12,
   "id": "a1b9ec26",
   "metadata": {},
   "outputs": [
    {
     "name": "stdout",
     "output_type": "stream",
     "text": [
      "<class 'pandas.core.frame.DataFrame'>\n",
      "Index: 1240 entries, 1 to 1240\n",
      "Data columns (total 7 columns):\n",
      " #   Column     Non-Null Count  Dtype \n",
      "---  ------     --------------  ----- \n",
      " 0   date       1240 non-null   object\n",
      " 1   open       1240 non-null   object\n",
      " 2   high       1240 non-null   object\n",
      " 3   low        1240 non-null   object\n",
      " 4   close      1240 non-null   object\n",
      " 5   adj_close  1240 non-null   object\n",
      " 6   volume     1240 non-null   object\n",
      "dtypes: object(7)\n",
      "memory usage: 77.5+ KB\n",
      "None\n"
     ]
    }
   ],
   "source": [
    "print(data_clean.info())"
   ]
  },
  {
   "cell_type": "code",
   "execution_count": 43,
   "id": "afb8e8dd",
   "metadata": {},
   "outputs": [],
   "source": [
    "import numpy as np\n",
    "\n",
    "sims= 10000\n",
    "\n",
    "a = np.random.normal(1,4,sims)\n",
    "b = np.random.normal(3,7,sims)\n",
    "\n",
    "duration = a + b"
   ]
  },
  {
   "cell_type": "code",
   "execution_count": 45,
   "id": "c86f4d7e",
   "metadata": {},
   "outputs": [
    {
     "data": {
      "image/png": "[encoded data removed]",
      "text/plain": [
       "<Figure size 300x150 with 1 Axes>"
      ]
     },
     "metadata": {},
     "output_type": "display_data"
    },
    {
     "name": "stdout",
     "output_type": "stream",
     "text": [
      "0.2686\n"
     ]
    }
   ],
   "source": [
    "plt.figure(figsize=(3,1.5))\n",
    "plt.hist(duration, density=True)\n",
    "plt.axvline(9, color='red')\n",
    "plt.show()\n",
    "print((duration >9).sum()/sims)"
   ]
  }
 ],
 "metadata": {
  "kernelspec": {
   "display_name": "base",
   "language": "python",
   "name": "python3"
  },
  "language_info": {
   "codemirror_mode": {
    "name": "ipython",
    "version": 3
   },
   "file_extension": ".py",
   "mimetype": "text/x-python",
   "name": "python",
   "nbconvert_exporter": "python",
   "pygments_lexer": "ipython3",
   "version": "3.13.5"
  }
 },
 "nbformat": 4,
 "nbformat_minor": 5
}
